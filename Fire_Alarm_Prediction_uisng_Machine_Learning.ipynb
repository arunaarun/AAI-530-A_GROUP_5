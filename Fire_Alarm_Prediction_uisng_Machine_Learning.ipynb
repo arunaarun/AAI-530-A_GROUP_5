{
 "cells": [
  {
   "cell_type": "markdown",
   "id": "dcae94cb",
   "metadata": {
    "id": "dcae94cb"
   },
   "source": [
    "## Fire Alarm Prediction Using Machine Learning\n",
    "\n",
    "### Introduction\n",
    "Introduction:\n",
    "Addressing class imbalance is a critical challenge in many machine learning applications, where the distribution of classes in the dataset is skewed, leading to biased model performance. In this project, we explore the impact of data normalization, feature selection, and data resampling techniques on improving the performance of machine learning models in the context of imbalanced datasets. We aim to enhance the models' ability to generalize and make accurate predictions across different scenarios by employing these strategies.\n",
    "\n",
    "The first objective of this study is to evaluate the effectiveness of data normalization in standardizing the dataset's features, thereby ensuring that each feature contributes equally to the model training process. We employ the StandardScaler to normalize the data and assess its impact on model performance. Additionally, we investigate the utility of feature selection techniques in reducing the dimensionality of the dataset while preserving its discriminatory power. We aim to streamline the model training process by selecting a subset of informative features and potentially improve computational efficiency.\n",
    "\n",
    "Furthermore, we address the class imbalance challenge by employing data resampling techniques such as oversampling and undersampling to rebalance the distribution of classes in the dataset. By generating synthetic samples or subsampling the majority class, we aim to provide the models with a more balanced training set, thereby mitigating the bias towards the majority class. Through a comprehensive evaluation of various machine learning algorithms before and after applying these preprocessing techniques, we aim to provide insights into practical strategies for improving model performance on imbalanced datasets.\n",
    "\n",
    "### Load Required Python Library"
   ]
  },
  {
   "cell_type": "code",
   "execution_count": 1,
   "id": "148a088a",
   "metadata": {
    "id": "148a088a"
   },
   "outputs": [],
   "source": [
    "import time\n",
    "import pandas as pd\n",
    "import numpy as np\n",
    "import matplotlib\n",
    "import matplotlib.pyplot as plt\n",
    "import seaborn as sns\n",
    "from sklearn.utils import resample\n",
    "from sklearn.preprocessing import LabelEncoder\n",
    "from sklearn.impute import SimpleImputer\n",
    "from sklearn.preprocessing import StandardScaler, MinMaxScaler\n",
    "from imblearn.over_sampling import RandomOverSampler\n",
    "from sklearn.feature_selection import SelectKBest, f_classif, chi2\n",
    "from sklearn.pipeline import Pipeline\n",
    "from sklearn.model_selection import train_test_split, GridSearchCV\n",
    "from sklearn.linear_model import LogisticRegression\n",
    "from sklearn.tree import DecisionTreeClassifier\n",
    "from sklearn.svm import SVC\n",
    "from sklearn.neighbors import KNeighborsClassifier\n",
    "from sklearn.ensemble import RandomForestClassifier\n",
    "from xgboost import XGBClassifier\n",
    "from sklearn.metrics import accuracy_score, precision_score, recall_score, f1_score\n",
    "from IPython.display import display, HTML\n",
    "from skimpy import skim\n",
    "import warnings\n",
    "warnings.filterwarnings('ignore')"
   ]
  },
  {
   "cell_type": "markdown",
   "id": "69f1a494",
   "metadata": {
    "id": "69f1a494"
   },
   "source": [
    "### Read And Analyze Data"
   ]
  },
  {
   "cell_type": "code",
   "execution_count": 2,
   "id": "6d7a5a7e",
   "metadata": {
    "id": "6d7a5a7e",
    "outputId": "03480f46-fa4a-431a-d7cf-1d13f23d8425"
   },
   "outputs": [
    {
     "data": {
      "text/html": [
       "<div>\n",
       "<style scoped>\n",
       "    .dataframe tbody tr th:only-of-type {\n",
       "        vertical-align: middle;\n",
       "    }\n",
       "\n",
       "    .dataframe tbody tr th {\n",
       "        vertical-align: top;\n",
       "    }\n",
       "\n",
       "    .dataframe thead th {\n",
       "        text-align: right;\n",
       "    }\n",
       "</style>\n",
       "<table border=\"1\" class=\"dataframe\">\n",
       "  <thead>\n",
       "    <tr style=\"text-align: right;\">\n",
       "      <th></th>\n",
       "      <th>Temperature[C]</th>\n",
       "      <th>Humidity[%]</th>\n",
       "      <th>TVOC[ppb]</th>\n",
       "      <th>eCO2[ppm]</th>\n",
       "      <th>Raw H2</th>\n",
       "      <th>Raw Ethanol</th>\n",
       "      <th>Pressure[hPa]</th>\n",
       "      <th>PM1.0</th>\n",
       "      <th>PM2.5</th>\n",
       "      <th>NC0.5</th>\n",
       "      <th>NC1.0</th>\n",
       "      <th>NC2.5</th>\n",
       "      <th>Fire Alarm</th>\n",
       "      <th>DateTime</th>\n",
       "    </tr>\n",
       "  </thead>\n",
       "  <tbody>\n",
       "    <tr>\n",
       "      <th>0</th>\n",
       "      <td>20.000</td>\n",
       "      <td>57.36</td>\n",
       "      <td>0</td>\n",
       "      <td>400</td>\n",
       "      <td>12306</td>\n",
       "      <td>18520</td>\n",
       "      <td>939.735</td>\n",
       "      <td>0.0</td>\n",
       "      <td>0.0</td>\n",
       "      <td>0.0</td>\n",
       "      <td>0.0</td>\n",
       "      <td>0.0</td>\n",
       "      <td>0</td>\n",
       "      <td>2022-06-09 00:08:51</td>\n",
       "    </tr>\n",
       "    <tr>\n",
       "      <th>1</th>\n",
       "      <td>20.015</td>\n",
       "      <td>56.67</td>\n",
       "      <td>0</td>\n",
       "      <td>400</td>\n",
       "      <td>12345</td>\n",
       "      <td>18651</td>\n",
       "      <td>939.744</td>\n",
       "      <td>0.0</td>\n",
       "      <td>0.0</td>\n",
       "      <td>0.0</td>\n",
       "      <td>0.0</td>\n",
       "      <td>0.0</td>\n",
       "      <td>0</td>\n",
       "      <td>2022-06-09 00:08:52</td>\n",
       "    </tr>\n",
       "    <tr>\n",
       "      <th>2</th>\n",
       "      <td>20.029</td>\n",
       "      <td>55.96</td>\n",
       "      <td>0</td>\n",
       "      <td>400</td>\n",
       "      <td>12374</td>\n",
       "      <td>18764</td>\n",
       "      <td>939.738</td>\n",
       "      <td>0.0</td>\n",
       "      <td>0.0</td>\n",
       "      <td>0.0</td>\n",
       "      <td>0.0</td>\n",
       "      <td>0.0</td>\n",
       "      <td>0</td>\n",
       "      <td>2022-06-09 00:08:53</td>\n",
       "    </tr>\n",
       "    <tr>\n",
       "      <th>3</th>\n",
       "      <td>20.044</td>\n",
       "      <td>55.28</td>\n",
       "      <td>0</td>\n",
       "      <td>400</td>\n",
       "      <td>12390</td>\n",
       "      <td>18849</td>\n",
       "      <td>939.736</td>\n",
       "      <td>0.0</td>\n",
       "      <td>0.0</td>\n",
       "      <td>0.0</td>\n",
       "      <td>0.0</td>\n",
       "      <td>0.0</td>\n",
       "      <td>0</td>\n",
       "      <td>2022-06-09 00:08:54</td>\n",
       "    </tr>\n",
       "    <tr>\n",
       "      <th>4</th>\n",
       "      <td>20.059</td>\n",
       "      <td>54.69</td>\n",
       "      <td>0</td>\n",
       "      <td>400</td>\n",
       "      <td>12403</td>\n",
       "      <td>18921</td>\n",
       "      <td>939.744</td>\n",
       "      <td>0.0</td>\n",
       "      <td>0.0</td>\n",
       "      <td>0.0</td>\n",
       "      <td>0.0</td>\n",
       "      <td>0.0</td>\n",
       "      <td>0</td>\n",
       "      <td>2022-06-09 00:08:55</td>\n",
       "    </tr>\n",
       "  </tbody>\n",
       "</table>\n",
       "</div>"
      ],
      "text/plain": [
       "   Temperature[C]  Humidity[%]  TVOC[ppb]  eCO2[ppm]  Raw H2  Raw Ethanol  \\\n",
       "0          20.000        57.36          0        400   12306        18520   \n",
       "1          20.015        56.67          0        400   12345        18651   \n",
       "2          20.029        55.96          0        400   12374        18764   \n",
       "3          20.044        55.28          0        400   12390        18849   \n",
       "4          20.059        54.69          0        400   12403        18921   \n",
       "\n",
       "   Pressure[hPa]  PM1.0  PM2.5  NC0.5  NC1.0  NC2.5  Fire Alarm  \\\n",
       "0        939.735    0.0    0.0    0.0    0.0    0.0           0   \n",
       "1        939.744    0.0    0.0    0.0    0.0    0.0           0   \n",
       "2        939.738    0.0    0.0    0.0    0.0    0.0           0   \n",
       "3        939.736    0.0    0.0    0.0    0.0    0.0           0   \n",
       "4        939.744    0.0    0.0    0.0    0.0    0.0           0   \n",
       "\n",
       "             DateTime  \n",
       "0 2022-06-09 00:08:51  \n",
       "1 2022-06-09 00:08:52  \n",
       "2 2022-06-09 00:08:53  \n",
       "3 2022-06-09 00:08:54  \n",
       "4 2022-06-09 00:08:55  "
      ]
     },
     "execution_count": 2,
     "metadata": {},
     "output_type": "execute_result"
    }
   ],
   "source": [
    "# Load dataset\n",
    "df = pd.read_pickle(\"smoke_detection_iot_cleaned.pkl\")\n",
    "df.head()"
   ]
  },
  {
   "cell_type": "code",
   "execution_count": 3,
   "id": "c8e0ecec",
   "metadata": {
    "id": "c8e0ecec",
    "outputId": "4844ed59-a412-4e07-a803-b64040a7f69b"
   },
   "outputs": [
    {
     "name": "stdout",
     "output_type": "stream",
     "text": [
      "<class 'pandas.core.frame.DataFrame'>\n",
      "RangeIndex: 62630 entries, 0 to 62629\n",
      "Data columns (total 14 columns):\n",
      " #   Column          Non-Null Count  Dtype         \n",
      "---  ------          --------------  -----         \n",
      " 0   Temperature[C]  62630 non-null  float64       \n",
      " 1   Humidity[%]     62630 non-null  float64       \n",
      " 2   TVOC[ppb]       62630 non-null  int64         \n",
      " 3   eCO2[ppm]       62630 non-null  int64         \n",
      " 4   Raw H2          62630 non-null  int64         \n",
      " 5   Raw Ethanol     62630 non-null  int64         \n",
      " 6   Pressure[hPa]   62630 non-null  float64       \n",
      " 7   PM1.0           62630 non-null  float64       \n",
      " 8   PM2.5           62630 non-null  float64       \n",
      " 9   NC0.5           62630 non-null  float64       \n",
      " 10  NC1.0           62630 non-null  float64       \n",
      " 11  NC2.5           62630 non-null  float64       \n",
      " 12  Fire Alarm      62630 non-null  int64         \n",
      " 13  DateTime        62630 non-null  datetime64[ns]\n",
      "dtypes: datetime64[ns](1), float64(8), int64(5)\n",
      "memory usage: 6.7 MB\n"
     ]
    }
   ],
   "source": [
    "df.info()"
   ]
  },
  {
   "cell_type": "code",
   "execution_count": 4,
   "id": "4a54e67b",
   "metadata": {
    "id": "4a54e67b",
    "outputId": "ddd08351-fe40-4705-c25c-1451ca4dc8f9"
   },
   "outputs": [
    {
     "data": {
      "text/html": [
       "<div>\n",
       "<style scoped>\n",
       "    .dataframe tbody tr th:only-of-type {\n",
       "        vertical-align: middle;\n",
       "    }\n",
       "\n",
       "    .dataframe tbody tr th {\n",
       "        vertical-align: top;\n",
       "    }\n",
       "\n",
       "    .dataframe thead th {\n",
       "        text-align: right;\n",
       "    }\n",
       "</style>\n",
       "<table border=\"1\" class=\"dataframe\">\n",
       "  <thead>\n",
       "    <tr style=\"text-align: right;\">\n",
       "      <th></th>\n",
       "      <th>count</th>\n",
       "      <th>mean</th>\n",
       "      <th>std</th>\n",
       "      <th>min</th>\n",
       "      <th>25%</th>\n",
       "      <th>50%</th>\n",
       "      <th>75%</th>\n",
       "      <th>max</th>\n",
       "    </tr>\n",
       "  </thead>\n",
       "  <tbody>\n",
       "    <tr>\n",
       "      <th>Temperature[C]</th>\n",
       "      <td>62630.0</td>\n",
       "      <td>15.970424</td>\n",
       "      <td>14.359576</td>\n",
       "      <td>-22.010</td>\n",
       "      <td>10.99425</td>\n",
       "      <td>20.130</td>\n",
       "      <td>25.4095</td>\n",
       "      <td>59.930</td>\n",
       "    </tr>\n",
       "    <tr>\n",
       "      <th>Humidity[%]</th>\n",
       "      <td>62630.0</td>\n",
       "      <td>48.539499</td>\n",
       "      <td>8.865367</td>\n",
       "      <td>10.740</td>\n",
       "      <td>47.53000</td>\n",
       "      <td>50.150</td>\n",
       "      <td>53.2400</td>\n",
       "      <td>75.200</td>\n",
       "    </tr>\n",
       "    <tr>\n",
       "      <th>TVOC[ppb]</th>\n",
       "      <td>62630.0</td>\n",
       "      <td>1942.057528</td>\n",
       "      <td>7811.589055</td>\n",
       "      <td>0.000</td>\n",
       "      <td>130.00000</td>\n",
       "      <td>981.000</td>\n",
       "      <td>1189.0000</td>\n",
       "      <td>60000.000</td>\n",
       "    </tr>\n",
       "    <tr>\n",
       "      <th>eCO2[ppm]</th>\n",
       "      <td>62630.0</td>\n",
       "      <td>670.021044</td>\n",
       "      <td>1905.885439</td>\n",
       "      <td>400.000</td>\n",
       "      <td>400.00000</td>\n",
       "      <td>400.000</td>\n",
       "      <td>438.0000</td>\n",
       "      <td>60000.000</td>\n",
       "    </tr>\n",
       "    <tr>\n",
       "      <th>Raw H2</th>\n",
       "      <td>62630.0</td>\n",
       "      <td>12942.453936</td>\n",
       "      <td>272.464305</td>\n",
       "      <td>10668.000</td>\n",
       "      <td>12830.00000</td>\n",
       "      <td>12924.000</td>\n",
       "      <td>13109.0000</td>\n",
       "      <td>13803.000</td>\n",
       "    </tr>\n",
       "    <tr>\n",
       "      <th>Raw Ethanol</th>\n",
       "      <td>62630.0</td>\n",
       "      <td>19754.257912</td>\n",
       "      <td>609.513156</td>\n",
       "      <td>15317.000</td>\n",
       "      <td>19435.00000</td>\n",
       "      <td>19501.000</td>\n",
       "      <td>20078.0000</td>\n",
       "      <td>21410.000</td>\n",
       "    </tr>\n",
       "    <tr>\n",
       "      <th>Pressure[hPa]</th>\n",
       "      <td>62630.0</td>\n",
       "      <td>938.627649</td>\n",
       "      <td>1.331344</td>\n",
       "      <td>930.852</td>\n",
       "      <td>938.70000</td>\n",
       "      <td>938.816</td>\n",
       "      <td>939.4180</td>\n",
       "      <td>939.861</td>\n",
       "    </tr>\n",
       "    <tr>\n",
       "      <th>PM1.0</th>\n",
       "      <td>62630.0</td>\n",
       "      <td>100.594309</td>\n",
       "      <td>922.524245</td>\n",
       "      <td>0.000</td>\n",
       "      <td>1.28000</td>\n",
       "      <td>1.810</td>\n",
       "      <td>2.0900</td>\n",
       "      <td>14333.690</td>\n",
       "    </tr>\n",
       "    <tr>\n",
       "      <th>PM2.5</th>\n",
       "      <td>62630.0</td>\n",
       "      <td>184.467770</td>\n",
       "      <td>1976.305615</td>\n",
       "      <td>0.000</td>\n",
       "      <td>1.34000</td>\n",
       "      <td>1.880</td>\n",
       "      <td>2.1800</td>\n",
       "      <td>45432.260</td>\n",
       "    </tr>\n",
       "    <tr>\n",
       "      <th>NC0.5</th>\n",
       "      <td>62630.0</td>\n",
       "      <td>491.463608</td>\n",
       "      <td>4265.661251</td>\n",
       "      <td>0.000</td>\n",
       "      <td>8.82000</td>\n",
       "      <td>12.450</td>\n",
       "      <td>14.4200</td>\n",
       "      <td>61482.030</td>\n",
       "    </tr>\n",
       "    <tr>\n",
       "      <th>NC1.0</th>\n",
       "      <td>62630.0</td>\n",
       "      <td>203.586487</td>\n",
       "      <td>2214.738556</td>\n",
       "      <td>0.000</td>\n",
       "      <td>1.38400</td>\n",
       "      <td>1.943</td>\n",
       "      <td>2.2490</td>\n",
       "      <td>51914.680</td>\n",
       "    </tr>\n",
       "    <tr>\n",
       "      <th>NC2.5</th>\n",
       "      <td>62630.0</td>\n",
       "      <td>80.049042</td>\n",
       "      <td>1083.383189</td>\n",
       "      <td>0.000</td>\n",
       "      <td>0.03300</td>\n",
       "      <td>0.044</td>\n",
       "      <td>0.0510</td>\n",
       "      <td>30026.438</td>\n",
       "    </tr>\n",
       "    <tr>\n",
       "      <th>Fire Alarm</th>\n",
       "      <td>62630.0</td>\n",
       "      <td>0.714626</td>\n",
       "      <td>0.451596</td>\n",
       "      <td>0.000</td>\n",
       "      <td>0.00000</td>\n",
       "      <td>1.000</td>\n",
       "      <td>1.0000</td>\n",
       "      <td>1.000</td>\n",
       "    </tr>\n",
       "  </tbody>\n",
       "</table>\n",
       "</div>"
      ],
      "text/plain": [
       "                  count          mean          std        min          25%  \\\n",
       "Temperature[C]  62630.0     15.970424    14.359576    -22.010     10.99425   \n",
       "Humidity[%]     62630.0     48.539499     8.865367     10.740     47.53000   \n",
       "TVOC[ppb]       62630.0   1942.057528  7811.589055      0.000    130.00000   \n",
       "eCO2[ppm]       62630.0    670.021044  1905.885439    400.000    400.00000   \n",
       "Raw H2          62630.0  12942.453936   272.464305  10668.000  12830.00000   \n",
       "Raw Ethanol     62630.0  19754.257912   609.513156  15317.000  19435.00000   \n",
       "Pressure[hPa]   62630.0    938.627649     1.331344    930.852    938.70000   \n",
       "PM1.0           62630.0    100.594309   922.524245      0.000      1.28000   \n",
       "PM2.5           62630.0    184.467770  1976.305615      0.000      1.34000   \n",
       "NC0.5           62630.0    491.463608  4265.661251      0.000      8.82000   \n",
       "NC1.0           62630.0    203.586487  2214.738556      0.000      1.38400   \n",
       "NC2.5           62630.0     80.049042  1083.383189      0.000      0.03300   \n",
       "Fire Alarm      62630.0      0.714626     0.451596      0.000      0.00000   \n",
       "\n",
       "                      50%         75%        max  \n",
       "Temperature[C]     20.130     25.4095     59.930  \n",
       "Humidity[%]        50.150     53.2400     75.200  \n",
       "TVOC[ppb]         981.000   1189.0000  60000.000  \n",
       "eCO2[ppm]         400.000    438.0000  60000.000  \n",
       "Raw H2          12924.000  13109.0000  13803.000  \n",
       "Raw Ethanol     19501.000  20078.0000  21410.000  \n",
       "Pressure[hPa]     938.816    939.4180    939.861  \n",
       "PM1.0               1.810      2.0900  14333.690  \n",
       "PM2.5               1.880      2.1800  45432.260  \n",
       "NC0.5              12.450     14.4200  61482.030  \n",
       "NC1.0               1.943      2.2490  51914.680  \n",
       "NC2.5               0.044      0.0510  30026.438  \n",
       "Fire Alarm          1.000      1.0000      1.000  "
      ]
     },
     "execution_count": 4,
     "metadata": {},
     "output_type": "execute_result"
    }
   ],
   "source": [
    "df.describe().T"
   ]
  },
  {
   "cell_type": "code",
   "execution_count": 5,
   "id": "660bbf24",
   "metadata": {
    "id": "660bbf24",
    "outputId": "36aa347d-e726-46ca-a62f-0a96cbb198a1"
   },
   "outputs": [
    {
     "data": {
      "text/html": [
       "<pre style=\"white-space:pre;overflow-x:auto;line-height:normal;font-family:Menlo,'DejaVu Sans Mono',consolas,'Courier New',monospace\">╭──────────────────────────────────────────────── skimpy summary ─────────────────────────────────────────────────╮\n",
       "│ <span style=\"font-style: italic\">         Data Summary         </span> <span style=\"font-style: italic\">      Data Types       </span>                                                          │\n",
       "│ ┏━━━━━━━━━━━━━━━━━━━┳━━━━━━━━┓ ┏━━━━━━━━━━━━━┳━━━━━━━┓                                                          │\n",
       "│ ┃<span style=\"color: #008080; text-decoration-color: #008080; font-weight: bold\"> dataframe         </span>┃<span style=\"color: #008080; text-decoration-color: #008080; font-weight: bold\"> Values </span>┃ ┃<span style=\"color: #008080; text-decoration-color: #008080; font-weight: bold\"> Column Type </span>┃<span style=\"color: #008080; text-decoration-color: #008080; font-weight: bold\"> Count </span>┃                                                          │\n",
       "│ ┡━━━━━━━━━━━━━━━━━━━╇━━━━━━━━┩ ┡━━━━━━━━━━━━━╇━━━━━━━┩                                                          │\n",
       "│ │ Number of rows    │ 62630  │ │ float64     │ 8     │                                                          │\n",
       "│ │ Number of columns │ 14     │ │ int64       │ 5     │                                                          │\n",
       "│ └───────────────────┴────────┘ │ datetime64  │ 1     │                                                          │\n",
       "│                                └─────────────┴───────┘                                                          │\n",
       "│ <span style=\"font-style: italic\">                                                    number                                                    </span>  │\n",
       "│ ┏━━━━━━━━━━━━━━━━━━━━━━┳━━━━━━┳━━━━━━━━┳━━━━━━━━━┳━━━━━━━━┳━━━━━━━━━┳━━━━━━━━━┳━━━━━━━━━┳━━━━━━━━━┳━━━━━━━━━━┓  │\n",
       "│ ┃<span style=\"font-weight: bold\"> column_name          </span>┃<span style=\"font-weight: bold\"> NA   </span>┃<span style=\"font-weight: bold\"> NA %   </span>┃<span style=\"font-weight: bold\"> mean    </span>┃<span style=\"font-weight: bold\"> sd     </span>┃<span style=\"font-weight: bold\"> p0      </span>┃<span style=\"font-weight: bold\"> p25     </span>┃<span style=\"font-weight: bold\"> p75     </span>┃<span style=\"font-weight: bold\"> p100    </span>┃<span style=\"font-weight: bold\"> hist     </span>┃  │\n",
       "│ ┡━━━━━━━━━━━━━━━━━━━━━━╇━━━━━━╇━━━━━━━━╇━━━━━━━━━╇━━━━━━━━╇━━━━━━━━━╇━━━━━━━━━╇━━━━━━━━━╇━━━━━━━━━╇━━━━━━━━━━┩  │\n",
       "│ │ <span style=\"color: #af87ff; text-decoration-color: #af87ff\">Temperature[C]      </span> │ <span style=\"color: #008080; text-decoration-color: #008080\">   0</span> │ <span style=\"color: #008080; text-decoration-color: #008080\">     0</span> │ <span style=\"color: #008080; text-decoration-color: #008080\">     16</span> │ <span style=\"color: #008080; text-decoration-color: #008080\">    14</span> │ <span style=\"color: #008080; text-decoration-color: #008080\">    -22</span> │ <span style=\"color: #008080; text-decoration-color: #008080\">     11</span> │ <span style=\"color: #008080; text-decoration-color: #008080\">     25</span> │ <span style=\"color: #008080; text-decoration-color: #008080\">     60</span> │ <span style=\"color: #008000; text-decoration-color: #008000\">  ▁▂▃█  </span> │  │\n",
       "│ │ <span style=\"color: #af87ff; text-decoration-color: #af87ff\">Humidity[%]         </span> │ <span style=\"color: #008080; text-decoration-color: #008080\">   0</span> │ <span style=\"color: #008080; text-decoration-color: #008080\">     0</span> │ <span style=\"color: #008080; text-decoration-color: #008080\">     49</span> │ <span style=\"color: #008080; text-decoration-color: #008080\">   8.9</span> │ <span style=\"color: #008080; text-decoration-color: #008080\">     11</span> │ <span style=\"color: #008080; text-decoration-color: #008080\">     48</span> │ <span style=\"color: #008080; text-decoration-color: #008080\">     53</span> │ <span style=\"color: #008080; text-decoration-color: #008080\">     75</span> │ <span style=\"color: #008000; text-decoration-color: #008000\"> ▁ ▁█▂  </span> │  │\n",
       "│ │ <span style=\"color: #af87ff; text-decoration-color: #af87ff\">TVOC[ppb]           </span> │ <span style=\"color: #008080; text-decoration-color: #008080\">   0</span> │ <span style=\"color: #008080; text-decoration-color: #008080\">     0</span> │ <span style=\"color: #008080; text-decoration-color: #008080\">   1900</span> │ <span style=\"color: #008080; text-decoration-color: #008080\">  7800</span> │ <span style=\"color: #008080; text-decoration-color: #008080\">      0</span> │ <span style=\"color: #008080; text-decoration-color: #008080\">    130</span> │ <span style=\"color: #008080; text-decoration-color: #008080\">   1200</span> │ <span style=\"color: #008080; text-decoration-color: #008080\">  60000</span> │ <span style=\"color: #008000; text-decoration-color: #008000\">   █    </span> │  │\n",
       "│ │ <span style=\"color: #af87ff; text-decoration-color: #af87ff\">eCO2[ppm]           </span> │ <span style=\"color: #008080; text-decoration-color: #008080\">   0</span> │ <span style=\"color: #008080; text-decoration-color: #008080\">     0</span> │ <span style=\"color: #008080; text-decoration-color: #008080\">    670</span> │ <span style=\"color: #008080; text-decoration-color: #008080\">  1900</span> │ <span style=\"color: #008080; text-decoration-color: #008080\">    400</span> │ <span style=\"color: #008080; text-decoration-color: #008080\">    400</span> │ <span style=\"color: #008080; text-decoration-color: #008080\">    440</span> │ <span style=\"color: #008080; text-decoration-color: #008080\">  60000</span> │ <span style=\"color: #008000; text-decoration-color: #008000\">   █    </span> │  │\n",
       "│ │ <span style=\"color: #af87ff; text-decoration-color: #af87ff\">Raw H2              </span> │ <span style=\"color: #008080; text-decoration-color: #008080\">   0</span> │ <span style=\"color: #008080; text-decoration-color: #008080\">     0</span> │ <span style=\"color: #008080; text-decoration-color: #008080\">  13000</span> │ <span style=\"color: #008080; text-decoration-color: #008080\">   270</span> │ <span style=\"color: #008080; text-decoration-color: #008080\">  11000</span> │ <span style=\"color: #008080; text-decoration-color: #008080\">  13000</span> │ <span style=\"color: #008080; text-decoration-color: #008080\">  13000</span> │ <span style=\"color: #008080; text-decoration-color: #008080\">  14000</span> │ <span style=\"color: #008000; text-decoration-color: #008000\">     █  </span> │  │\n",
       "│ │ <span style=\"color: #af87ff; text-decoration-color: #af87ff\">Raw Ethanol         </span> │ <span style=\"color: #008080; text-decoration-color: #008080\">   0</span> │ <span style=\"color: #008080; text-decoration-color: #008080\">     0</span> │ <span style=\"color: #008080; text-decoration-color: #008080\">  20000</span> │ <span style=\"color: #008080; text-decoration-color: #008080\">   610</span> │ <span style=\"color: #008080; text-decoration-color: #008080\">  15000</span> │ <span style=\"color: #008080; text-decoration-color: #008080\">  19000</span> │ <span style=\"color: #008080; text-decoration-color: #008080\">  20000</span> │ <span style=\"color: #008080; text-decoration-color: #008080\">  21000</span> │ <span style=\"color: #008000; text-decoration-color: #008000\">     █▁ </span> │  │\n",
       "│ │ <span style=\"color: #af87ff; text-decoration-color: #af87ff\">Pressure[hPa]       </span> │ <span style=\"color: #008080; text-decoration-color: #008080\">   0</span> │ <span style=\"color: #008080; text-decoration-color: #008080\">     0</span> │ <span style=\"color: #008080; text-decoration-color: #008080\">    940</span> │ <span style=\"color: #008080; text-decoration-color: #008080\">   1.3</span> │ <span style=\"color: #008080; text-decoration-color: #008080\">    930</span> │ <span style=\"color: #008080; text-decoration-color: #008080\">    940</span> │ <span style=\"color: #008080; text-decoration-color: #008080\">    940</span> │ <span style=\"color: #008080; text-decoration-color: #008080\">    940</span> │ <span style=\"color: #008000; text-decoration-color: #008000\">     ▂█ </span> │  │\n",
       "│ │ <span style=\"color: #af87ff; text-decoration-color: #af87ff\">PM1.0               </span> │ <span style=\"color: #008080; text-decoration-color: #008080\">   0</span> │ <span style=\"color: #008080; text-decoration-color: #008080\">     0</span> │ <span style=\"color: #008080; text-decoration-color: #008080\">    100</span> │ <span style=\"color: #008080; text-decoration-color: #008080\">   920</span> │ <span style=\"color: #008080; text-decoration-color: #008080\">      0</span> │ <span style=\"color: #008080; text-decoration-color: #008080\">    1.3</span> │ <span style=\"color: #008080; text-decoration-color: #008080\">    2.1</span> │ <span style=\"color: #008080; text-decoration-color: #008080\">  14000</span> │ <span style=\"color: #008000; text-decoration-color: #008000\">   █    </span> │  │\n",
       "│ │ <span style=\"color: #af87ff; text-decoration-color: #af87ff\">PM2.5               </span> │ <span style=\"color: #008080; text-decoration-color: #008080\">   0</span> │ <span style=\"color: #008080; text-decoration-color: #008080\">     0</span> │ <span style=\"color: #008080; text-decoration-color: #008080\">    180</span> │ <span style=\"color: #008080; text-decoration-color: #008080\">  2000</span> │ <span style=\"color: #008080; text-decoration-color: #008080\">      0</span> │ <span style=\"color: #008080; text-decoration-color: #008080\">    1.3</span> │ <span style=\"color: #008080; text-decoration-color: #008080\">    2.2</span> │ <span style=\"color: #008080; text-decoration-color: #008080\">  45000</span> │ <span style=\"color: #008000; text-decoration-color: #008000\">   █    </span> │  │\n",
       "│ │ <span style=\"color: #af87ff; text-decoration-color: #af87ff\">NC0.5               </span> │ <span style=\"color: #008080; text-decoration-color: #008080\">   0</span> │ <span style=\"color: #008080; text-decoration-color: #008080\">     0</span> │ <span style=\"color: #008080; text-decoration-color: #008080\">    490</span> │ <span style=\"color: #008080; text-decoration-color: #008080\">  4300</span> │ <span style=\"color: #008080; text-decoration-color: #008080\">      0</span> │ <span style=\"color: #008080; text-decoration-color: #008080\">    8.8</span> │ <span style=\"color: #008080; text-decoration-color: #008080\">     14</span> │ <span style=\"color: #008080; text-decoration-color: #008080\">  61000</span> │ <span style=\"color: #008000; text-decoration-color: #008000\">   █    </span> │  │\n",
       "│ │ <span style=\"color: #af87ff; text-decoration-color: #af87ff\">NC1.0               </span> │ <span style=\"color: #008080; text-decoration-color: #008080\">   0</span> │ <span style=\"color: #008080; text-decoration-color: #008080\">     0</span> │ <span style=\"color: #008080; text-decoration-color: #008080\">    200</span> │ <span style=\"color: #008080; text-decoration-color: #008080\">  2200</span> │ <span style=\"color: #008080; text-decoration-color: #008080\">      0</span> │ <span style=\"color: #008080; text-decoration-color: #008080\">    1.4</span> │ <span style=\"color: #008080; text-decoration-color: #008080\">    2.2</span> │ <span style=\"color: #008080; text-decoration-color: #008080\">  52000</span> │ <span style=\"color: #008000; text-decoration-color: #008000\">   █    </span> │  │\n",
       "│ │ <span style=\"color: #af87ff; text-decoration-color: #af87ff\">NC2.5               </span> │ <span style=\"color: #008080; text-decoration-color: #008080\">   0</span> │ <span style=\"color: #008080; text-decoration-color: #008080\">     0</span> │ <span style=\"color: #008080; text-decoration-color: #008080\">     80</span> │ <span style=\"color: #008080; text-decoration-color: #008080\">  1100</span> │ <span style=\"color: #008080; text-decoration-color: #008080\">      0</span> │ <span style=\"color: #008080; text-decoration-color: #008080\">  0.033</span> │ <span style=\"color: #008080; text-decoration-color: #008080\">  0.051</span> │ <span style=\"color: #008080; text-decoration-color: #008080\">  30000</span> │ <span style=\"color: #008000; text-decoration-color: #008000\">   █    </span> │  │\n",
       "│ │ <span style=\"color: #af87ff; text-decoration-color: #af87ff\">Fire Alarm          </span> │ <span style=\"color: #008080; text-decoration-color: #008080\">   0</span> │ <span style=\"color: #008080; text-decoration-color: #008080\">     0</span> │ <span style=\"color: #008080; text-decoration-color: #008080\">   0.71</span> │ <span style=\"color: #008080; text-decoration-color: #008080\">  0.45</span> │ <span style=\"color: #008080; text-decoration-color: #008080\">      0</span> │ <span style=\"color: #008080; text-decoration-color: #008080\">      0</span> │ <span style=\"color: #008080; text-decoration-color: #008080\">      1</span> │ <span style=\"color: #008080; text-decoration-color: #008080\">      1</span> │ <span style=\"color: #008000; text-decoration-color: #008000\"> ▃    █ </span> │  │\n",
       "│ └──────────────────────┴──────┴────────┴─────────┴────────┴─────────┴─────────┴─────────┴─────────┴──────────┘  │\n",
       "│ <span style=\"font-style: italic\">                                                   datetime                                                   </span>  │\n",
       "│ ┏━━━━━━━━━━━━━━━━━━┳━━━━━━┳━━━━━━━━━┳━━━━━━━━━━━━━━━━━━━━━━━━━━━━┳━━━━━━━━━━━━━━━━━━━━━━━━━━━━┳━━━━━━━━━━━━━━┓  │\n",
       "│ ┃<span style=\"font-weight: bold\"> column_name      </span>┃<span style=\"font-weight: bold\"> NA   </span>┃<span style=\"font-weight: bold\"> NA %    </span>┃<span style=\"font-weight: bold\"> first                      </span>┃<span style=\"font-weight: bold\"> last                       </span>┃<span style=\"font-weight: bold\"> frequency    </span>┃  │\n",
       "│ ┡━━━━━━━━━━━━━━━━━━╇━━━━━━╇━━━━━━━━━╇━━━━━━━━━━━━━━━━━━━━━━━━━━━━╇━━━━━━━━━━━━━━━━━━━━━━━━━━━━╇━━━━━━━━━━━━━━┩  │\n",
       "│ │ <span style=\"color: #af87ff; text-decoration-color: #af87ff\">DateTime        </span> │ <span style=\"color: #008080; text-decoration-color: #008080\">   0</span> │ <span style=\"color: #008080; text-decoration-color: #008080\">      0</span> │ <span style=\"color: #800000; text-decoration-color: #800000\">   2022-06-08 18:16:27    </span> │ <span style=\"color: #800000; text-decoration-color: #800000\">   2022-06-13 14:20:51    </span> │ <span style=\"color: #af87ff; text-decoration-color: #af87ff\">None        </span> │  │\n",
       "│ └──────────────────┴──────┴─────────┴────────────────────────────┴────────────────────────────┴──────────────┘  │\n",
       "╰────────────────────────────────────────────────────── End ──────────────────────────────────────────────────────╯\n",
       "</pre>\n"
      ],
      "text/plain": [
       "╭──────────────────────────────────────────────── skimpy summary ─────────────────────────────────────────────────╮\n",
       "│ \u001b[3m         Data Summary         \u001b[0m \u001b[3m      Data Types       \u001b[0m                                                          │\n",
       "│ ┏━━━━━━━━━━━━━━━━━━━┳━━━━━━━━┓ ┏━━━━━━━━━━━━━┳━━━━━━━┓                                                          │\n",
       "│ ┃\u001b[1;36m \u001b[0m\u001b[1;36mdataframe        \u001b[0m\u001b[1;36m \u001b[0m┃\u001b[1;36m \u001b[0m\u001b[1;36mValues\u001b[0m\u001b[1;36m \u001b[0m┃ ┃\u001b[1;36m \u001b[0m\u001b[1;36mColumn Type\u001b[0m\u001b[1;36m \u001b[0m┃\u001b[1;36m \u001b[0m\u001b[1;36mCount\u001b[0m\u001b[1;36m \u001b[0m┃                                                          │\n",
       "│ ┡━━━━━━━━━━━━━━━━━━━╇━━━━━━━━┩ ┡━━━━━━━━━━━━━╇━━━━━━━┩                                                          │\n",
       "│ │ Number of rows    │ 62630  │ │ float64     │ 8     │                                                          │\n",
       "│ │ Number of columns │ 14     │ │ int64       │ 5     │                                                          │\n",
       "│ └───────────────────┴────────┘ │ datetime64  │ 1     │                                                          │\n",
       "│                                └─────────────┴───────┘                                                          │\n",
       "│ \u001b[3m                                                    number                                                    \u001b[0m  │\n",
       "│ ┏━━━━━━━━━━━━━━━━━━━━━━┳━━━━━━┳━━━━━━━━┳━━━━━━━━━┳━━━━━━━━┳━━━━━━━━━┳━━━━━━━━━┳━━━━━━━━━┳━━━━━━━━━┳━━━━━━━━━━┓  │\n",
       "│ ┃\u001b[1m \u001b[0m\u001b[1mcolumn_name         \u001b[0m\u001b[1m \u001b[0m┃\u001b[1m \u001b[0m\u001b[1mNA  \u001b[0m\u001b[1m \u001b[0m┃\u001b[1m \u001b[0m\u001b[1mNA %  \u001b[0m\u001b[1m \u001b[0m┃\u001b[1m \u001b[0m\u001b[1mmean   \u001b[0m\u001b[1m \u001b[0m┃\u001b[1m \u001b[0m\u001b[1msd    \u001b[0m\u001b[1m \u001b[0m┃\u001b[1m \u001b[0m\u001b[1mp0     \u001b[0m\u001b[1m \u001b[0m┃\u001b[1m \u001b[0m\u001b[1mp25    \u001b[0m\u001b[1m \u001b[0m┃\u001b[1m \u001b[0m\u001b[1mp75    \u001b[0m\u001b[1m \u001b[0m┃\u001b[1m \u001b[0m\u001b[1mp100   \u001b[0m\u001b[1m \u001b[0m┃\u001b[1m \u001b[0m\u001b[1mhist    \u001b[0m\u001b[1m \u001b[0m┃  │\n",
       "│ ┡━━━━━━━━━━━━━━━━━━━━━━╇━━━━━━╇━━━━━━━━╇━━━━━━━━━╇━━━━━━━━╇━━━━━━━━━╇━━━━━━━━━╇━━━━━━━━━╇━━━━━━━━━╇━━━━━━━━━━┩  │\n",
       "│ │ \u001b[38;5;141mTemperature[C]      \u001b[0m │ \u001b[36m   0\u001b[0m │ \u001b[36m     0\u001b[0m │ \u001b[36m     16\u001b[0m │ \u001b[36m    14\u001b[0m │ \u001b[36m    -22\u001b[0m │ \u001b[36m     11\u001b[0m │ \u001b[36m     25\u001b[0m │ \u001b[36m     60\u001b[0m │ \u001b[32m  ▁▂▃█  \u001b[0m │  │\n",
       "│ │ \u001b[38;5;141mHumidity[%]         \u001b[0m │ \u001b[36m   0\u001b[0m │ \u001b[36m     0\u001b[0m │ \u001b[36m     49\u001b[0m │ \u001b[36m   8.9\u001b[0m │ \u001b[36m     11\u001b[0m │ \u001b[36m     48\u001b[0m │ \u001b[36m     53\u001b[0m │ \u001b[36m     75\u001b[0m │ \u001b[32m ▁ ▁█▂  \u001b[0m │  │\n",
       "│ │ \u001b[38;5;141mTVOC[ppb]           \u001b[0m │ \u001b[36m   0\u001b[0m │ \u001b[36m     0\u001b[0m │ \u001b[36m   1900\u001b[0m │ \u001b[36m  7800\u001b[0m │ \u001b[36m      0\u001b[0m │ \u001b[36m    130\u001b[0m │ \u001b[36m   1200\u001b[0m │ \u001b[36m  60000\u001b[0m │ \u001b[32m   █    \u001b[0m │  │\n",
       "│ │ \u001b[38;5;141meCO2[ppm]           \u001b[0m │ \u001b[36m   0\u001b[0m │ \u001b[36m     0\u001b[0m │ \u001b[36m    670\u001b[0m │ \u001b[36m  1900\u001b[0m │ \u001b[36m    400\u001b[0m │ \u001b[36m    400\u001b[0m │ \u001b[36m    440\u001b[0m │ \u001b[36m  60000\u001b[0m │ \u001b[32m   █    \u001b[0m │  │\n",
       "│ │ \u001b[38;5;141mRaw H2              \u001b[0m │ \u001b[36m   0\u001b[0m │ \u001b[36m     0\u001b[0m │ \u001b[36m  13000\u001b[0m │ \u001b[36m   270\u001b[0m │ \u001b[36m  11000\u001b[0m │ \u001b[36m  13000\u001b[0m │ \u001b[36m  13000\u001b[0m │ \u001b[36m  14000\u001b[0m │ \u001b[32m     █  \u001b[0m │  │\n",
       "│ │ \u001b[38;5;141mRaw Ethanol         \u001b[0m │ \u001b[36m   0\u001b[0m │ \u001b[36m     0\u001b[0m │ \u001b[36m  20000\u001b[0m │ \u001b[36m   610\u001b[0m │ \u001b[36m  15000\u001b[0m │ \u001b[36m  19000\u001b[0m │ \u001b[36m  20000\u001b[0m │ \u001b[36m  21000\u001b[0m │ \u001b[32m     █▁ \u001b[0m │  │\n",
       "│ │ \u001b[38;5;141mPressure[hPa]       \u001b[0m │ \u001b[36m   0\u001b[0m │ \u001b[36m     0\u001b[0m │ \u001b[36m    940\u001b[0m │ \u001b[36m   1.3\u001b[0m │ \u001b[36m    930\u001b[0m │ \u001b[36m    940\u001b[0m │ \u001b[36m    940\u001b[0m │ \u001b[36m    940\u001b[0m │ \u001b[32m     ▂█ \u001b[0m │  │\n",
       "│ │ \u001b[38;5;141mPM1.0               \u001b[0m │ \u001b[36m   0\u001b[0m │ \u001b[36m     0\u001b[0m │ \u001b[36m    100\u001b[0m │ \u001b[36m   920\u001b[0m │ \u001b[36m      0\u001b[0m │ \u001b[36m    1.3\u001b[0m │ \u001b[36m    2.1\u001b[0m │ \u001b[36m  14000\u001b[0m │ \u001b[32m   █    \u001b[0m │  │\n",
       "│ │ \u001b[38;5;141mPM2.5               \u001b[0m │ \u001b[36m   0\u001b[0m │ \u001b[36m     0\u001b[0m │ \u001b[36m    180\u001b[0m │ \u001b[36m  2000\u001b[0m │ \u001b[36m      0\u001b[0m │ \u001b[36m    1.3\u001b[0m │ \u001b[36m    2.2\u001b[0m │ \u001b[36m  45000\u001b[0m │ \u001b[32m   █    \u001b[0m │  │\n",
       "│ │ \u001b[38;5;141mNC0.5               \u001b[0m │ \u001b[36m   0\u001b[0m │ \u001b[36m     0\u001b[0m │ \u001b[36m    490\u001b[0m │ \u001b[36m  4300\u001b[0m │ \u001b[36m      0\u001b[0m │ \u001b[36m    8.8\u001b[0m │ \u001b[36m     14\u001b[0m │ \u001b[36m  61000\u001b[0m │ \u001b[32m   █    \u001b[0m │  │\n",
       "│ │ \u001b[38;5;141mNC1.0               \u001b[0m │ \u001b[36m   0\u001b[0m │ \u001b[36m     0\u001b[0m │ \u001b[36m    200\u001b[0m │ \u001b[36m  2200\u001b[0m │ \u001b[36m      0\u001b[0m │ \u001b[36m    1.4\u001b[0m │ \u001b[36m    2.2\u001b[0m │ \u001b[36m  52000\u001b[0m │ \u001b[32m   █    \u001b[0m │  │\n",
       "│ │ \u001b[38;5;141mNC2.5               \u001b[0m │ \u001b[36m   0\u001b[0m │ \u001b[36m     0\u001b[0m │ \u001b[36m     80\u001b[0m │ \u001b[36m  1100\u001b[0m │ \u001b[36m      0\u001b[0m │ \u001b[36m  0.033\u001b[0m │ \u001b[36m  0.051\u001b[0m │ \u001b[36m  30000\u001b[0m │ \u001b[32m   █    \u001b[0m │  │\n",
       "│ │ \u001b[38;5;141mFire Alarm          \u001b[0m │ \u001b[36m   0\u001b[0m │ \u001b[36m     0\u001b[0m │ \u001b[36m   0.71\u001b[0m │ \u001b[36m  0.45\u001b[0m │ \u001b[36m      0\u001b[0m │ \u001b[36m      0\u001b[0m │ \u001b[36m      1\u001b[0m │ \u001b[36m      1\u001b[0m │ \u001b[32m ▃    █ \u001b[0m │  │\n",
       "│ └──────────────────────┴──────┴────────┴─────────┴────────┴─────────┴─────────┴─────────┴─────────┴──────────┘  │\n",
       "│ \u001b[3m                                                   datetime                                                   \u001b[0m  │\n",
       "│ ┏━━━━━━━━━━━━━━━━━━┳━━━━━━┳━━━━━━━━━┳━━━━━━━━━━━━━━━━━━━━━━━━━━━━┳━━━━━━━━━━━━━━━━━━━━━━━━━━━━┳━━━━━━━━━━━━━━┓  │\n",
       "│ ┃\u001b[1m \u001b[0m\u001b[1mcolumn_name     \u001b[0m\u001b[1m \u001b[0m┃\u001b[1m \u001b[0m\u001b[1mNA  \u001b[0m\u001b[1m \u001b[0m┃\u001b[1m \u001b[0m\u001b[1mNA %   \u001b[0m\u001b[1m \u001b[0m┃\u001b[1m \u001b[0m\u001b[1mfirst                     \u001b[0m\u001b[1m \u001b[0m┃\u001b[1m \u001b[0m\u001b[1mlast                      \u001b[0m\u001b[1m \u001b[0m┃\u001b[1m \u001b[0m\u001b[1mfrequency   \u001b[0m\u001b[1m \u001b[0m┃  │\n",
       "│ ┡━━━━━━━━━━━━━━━━━━╇━━━━━━╇━━━━━━━━━╇━━━━━━━━━━━━━━━━━━━━━━━━━━━━╇━━━━━━━━━━━━━━━━━━━━━━━━━━━━╇━━━━━━━━━━━━━━┩  │\n",
       "│ │ \u001b[38;5;141mDateTime        \u001b[0m │ \u001b[36m   0\u001b[0m │ \u001b[36m      0\u001b[0m │ \u001b[31m   2022-06-08 18:16:27    \u001b[0m │ \u001b[31m   2022-06-13 14:20:51    \u001b[0m │ \u001b[38;5;141mNone        \u001b[0m │  │\n",
       "│ └──────────────────┴──────┴─────────┴────────────────────────────┴────────────────────────────┴──────────────┘  │\n",
       "╰────────────────────────────────────────────────────── End ──────────────────────────────────────────────────────╯\n"
      ]
     },
     "metadata": {},
     "output_type": "display_data"
    }
   ],
   "source": [
    "skim(df)"
   ]
  },
  {
   "cell_type": "code",
   "execution_count": 6,
   "id": "86acfacf",
   "metadata": {},
   "outputs": [],
   "source": [
    "# Remove DataTime\n",
    "df.drop(['DateTime'], inplace=True, axis=1)"
   ]
  },
  {
   "cell_type": "markdown",
   "id": "246951d3",
   "metadata": {
    "id": "246951d3"
   },
   "source": [
    "## Train and evaluate different models"
   ]
  },
  {
   "cell_type": "code",
   "execution_count": 7,
   "id": "6136f1fe",
   "metadata": {
    "id": "6136f1fe"
   },
   "outputs": [],
   "source": [
    "Models = {\n",
    "    'LogisticRegression': LogisticRegression(),\n",
    "    'KNeighborsClassifier': KNeighborsClassifier(),\n",
    "    'DecisionTreeClassifier': DecisionTreeClassifier(),\n",
    "}"
   ]
  },
  {
   "cell_type": "markdown",
   "id": "ac723799",
   "metadata": {},
   "source": [
    "### Create Helping Functions"
   ]
  },
  {
   "cell_type": "code",
   "execution_count": 8,
   "id": "c09974e7",
   "metadata": {},
   "outputs": [],
   "source": [
    "def display_score(data):\n",
    "    # create a DataFrame\n",
    "    df = pd.DataFrame(data)\n",
    "\n",
    "    # apply some styles\n",
    "    styled_df = df.style.set_properties(**{'text-align': 'center'}) \\\n",
    "                        .set_table_styles([{'selector': 'th', 'props': [('background-color', 'lightblue')]}]) \\\n",
    "                        .hide_index()\n",
    "\n",
    "    # format numerical values to two decimal places\n",
    "    styled_df = styled_df.format('{:.2f}', subset=pd.IndexSlice[:, ['accuracy', 'precision', 'recall', 'f1', 'run-time']])\n",
    "\n",
    "    # display the styled DataFrame\n",
    "    return styled_df\n",
    "\n",
    "\n",
    "def display_tables_side_by_side(t1, title1, t2, title2):\n",
    "    title1 = f'<h2 align=\"center\">{title1}</h2>'\n",
    "    title2 = f'<h2 align=\"center\">{title2}</h2>'\n",
    "    # add captions to each table\n",
    "    t1 = t1.set_caption(title1)\n",
    "    t2 = t2.set_caption(title2)\n",
    "\n",
    "    # combine the HTML tables side by side with some space in between\n",
    "    html = '<div style=\"display: flex;\">' + t1.render() + '<div style=\"width: 20px;\"></div>' + t2.render() + '</div>'\n",
    "\n",
    "    # display the combined tables\n",
    "    display(HTML(html))\n",
    "    \n",
    "\n",
    "def train_evaluate_model(name, model,X_train,y_train,X_test,y_test, score):\n",
    "    start = time.time()\n",
    "    model.fit(X_train,y_train)\n",
    "    y_pred = model.predict(X_test)\n",
    "    accuracy = accuracy_score(y_test, y_pred)\n",
    "    precision = precision_score(y_test, y_pred)\n",
    "    recall = recall_score(y_test, y_pred)\n",
    "    f1 = f1_score(y_test, y_pred)\n",
    "    end = time.time()\n",
    "    run_time = round(end-start, 2)\n",
    "    score[\"model\"].append(name)\n",
    "    score[\"accuracy\"].append(round(accuracy,2))\n",
    "    score[\"precision\"].append(round(precision,2))\n",
    "    score[\"recall\"].append(round(recall,2))\n",
    "    score[\"f1\"].append(round(f1,2))\n",
    "    score[\"run-time\"].append(round(run_time,2))\n",
    "    \n",
    "    print(f\"Model: {name}\")\n",
    "    print(\"Accuracy: %s\" % \"{0:.3%}\".format(accuracy))\n",
    "    print(\"Run time: %s\" % \"{0:.3}\".format(end-start))\n",
    "    print(\"------------------------------------------\")"
   ]
  },
  {
   "cell_type": "markdown",
   "id": "9f9779b2",
   "metadata": {
    "id": "9f9779b2"
   },
   "source": [
    "## Exploratory Data Analysis"
   ]
  },
  {
   "cell_type": "markdown",
   "id": "418546c6",
   "metadata": {
    "id": "418546c6"
   },
   "source": [
    "### Visualizing the Data"
   ]
  },
  {
   "cell_type": "code",
   "execution_count": 9,
   "id": "12704ce2",
   "metadata": {
    "id": "12704ce2",
    "outputId": "aa85809d-b27b-4a04-86fc-615603397b83"
   },
   "outputs": [
    {
     "data": {
      "image/png": "[encoded data removed]",
      "text/plain": [
       "<Figure size 1000x1000 with 16 Axes>"
      ]
     },
     "metadata": {},
     "output_type": "display_data"
    }
   ],
   "source": [
    "#histogram for each  feature\n",
    "df.hist(bins=10,figsize=(10,10))\n",
    "plt.show()"
   ]
  },
  {
   "cell_type": "markdown",
   "id": "a2250792",
   "metadata": {
    "id": "a2250792"
   },
   "source": [
    "## Model Selection"
   ]
  },
  {
   "cell_type": "markdown",
   "id": "98f26e9b",
   "metadata": {
    "id": "98f26e9b"
   },
   "source": [
    "### Analysis of Fire Alarm (Target Variable)\n",
    "\n",
    "A Count plot and a Pie chart will be two useful plots to analyse the `Fire Alarm` column as it is a categorical feature. Usefulness in the sense, both the plots will allow us to observe the distribution of each category in the feature."
   ]
  },
  {
   "cell_type": "code",
   "execution_count": 10,
   "id": "dcb13106",
   "metadata": {
    "id": "dcb13106",
    "outputId": "198ab683-16d3-44ff-e80e-c5c587419857"
   },
   "outputs": [
    {
     "data": {
      "image/png": "[encoded data removed]",
      "text/plain": [
       "<Figure size 1500x700 with 2 Axes>"
      ]
     },
     "metadata": {},
     "output_type": "display_data"
    }
   ],
   "source": [
    "# Extract default colors\n",
    "colors = matplotlib.rcParams['axes.prop_cycle'].by_key()['color']\n",
    "\n",
    "# Create subplots\n",
    "fig, ax = plt.subplots(1, 2, figsize=(15, 7))\n",
    "\n",
    "# Plot count plot on first axis\n",
    "ax[0].bar([0, 1], df[\"Fire Alarm\"].value_counts(), color=[colors[0], colors[1]])\n",
    "ax[0].set_xticks([0, 1])\n",
    "ax[0].set_xticklabels([\"No\", \"Yes\"])\n",
    "ax[0].set_xlabel(\"Fire Alarm\")\n",
    "ax[0].set_ylabel(\"Count\")\n",
    "ax[0].set_title(\"Count of Fire Alarms\")\n",
    "\n",
    "# Plot pie chart on second axis\n",
    "values = df[\"Fire Alarm\"].value_counts()\n",
    "labels = [\"No\", \"Yes\"]\n",
    "explode = [0.1, 0]\n",
    "colors = [\"blue\", \"orange\"]\n",
    "ax[1].pie(values, labels=labels, autopct=\"%1.1f%%\")\n",
    "ax[1].set_title(\"Proportion of Outcomes\")\n",
    "\n",
    "# Display the plot\n",
    "plt.show()"
   ]
  },
  {
   "cell_type": "markdown",
   "id": "e3450e72",
   "metadata": {
    "id": "e3450e72"
   },
   "source": [
    "The above plot shows that:\n",
    "\n",
    "- **71.5% of smoke detection cases in the dataset do NOT have risk of fire.**\n",
    "- **28.5% of smoke detection cases in the dataset has risk of fire.** \n",
    "\n",
    "Which is imbalanced result.\n",
    "\n",
    "#### Rebalance Data"
   ]
  },
  {
   "cell_type": "code",
   "execution_count": 11,
   "id": "5b9f7713",
   "metadata": {
    "id": "5b9f7713"
   },
   "outputs": [],
   "source": [
    "data_major = df[(df['Fire Alarm']==1)]\n",
    "data_minor = df[(df['Fire Alarm']==0)]\n",
    "upsample = resample(data_minor,\n",
    "                    replace = True,\n",
    "                    n_samples = len(data_major),\n",
    "                    random_state= 42)\n",
    "df_rebalanced = pd.concat([upsample, data_major])"
   ]
  },
  {
   "cell_type": "code",
   "execution_count": 12,
   "id": "86b49347",
   "metadata": {
    "id": "86b49347",
    "outputId": "b19c5767-2698-4dd2-8150-34e725abd419"
   },
   "outputs": [
    {
     "data": {
      "image/png": "[encoded data removed]",
      "text/plain": [
       "<Figure size 1500x700 with 2 Axes>"
      ]
     },
     "metadata": {},
     "output_type": "display_data"
    }
   ],
   "source": [
    "# Extract default colors\n",
    "colors = matplotlib.rcParams['axes.prop_cycle'].by_key()['color']\n",
    "\n",
    "# Create subplots\n",
    "fig, ax = plt.subplots(1, 2, figsize=(15, 7))\n",
    "\n",
    "# Plot count plot on first axis\n",
    "ax[0].bar([0, 1], df_rebalanced[\"Fire Alarm\"].value_counts(), color=[colors[0], colors[1]])\n",
    "ax[0].set_xticks([0, 1])\n",
    "ax[0].set_xticklabels([\"No\", \"Yes\"])\n",
    "ax[0].set_xlabel(\"Fire Alarm\")\n",
    "ax[0].set_ylabel(\"Count\")\n",
    "ax[0].set_title(\"Count of Fire Alarms\")\n",
    "\n",
    "# Plot pie chart on second axis\n",
    "values = df_rebalanced[\"Fire Alarm\"].value_counts()\n",
    "labels = [\"No\", \"Yes\"]\n",
    "explode = [0.1, 0]\n",
    "colors = [\"blue\", \"orange\"]\n",
    "ax[1].pie(values, labels=labels, autopct=\"%1.1f%%\")\n",
    "ax[1].set_title(\"Proportion of Outcomes\")\n",
    "\n",
    "# Display the plot\n",
    "plt.show()"
   ]
  },
  {
   "cell_type": "markdown",
   "id": "8cbf98b8",
   "metadata": {
    "id": "8cbf98b8"
   },
   "source": [
    "## Split the data into train and test sets"
   ]
  },
  {
   "cell_type": "code",
   "execution_count": 13,
   "id": "12f4f563",
   "metadata": {
    "id": "12f4f563"
   },
   "outputs": [],
   "source": [
    "# Split the data into training and testing sets\n",
    "X_train, X_test, y_train, y_test = train_test_split(df.drop(\"Fire Alarm\", axis=1), df[\"Fire Alarm\"], test_size=0.2)\n",
    "X_train_rebalanced, X_test_rebalanced, y_train_rebalanced, y_test_rebalanced = train_test_split(\n",
    "    df_rebalanced.drop(\"Fire Alarm\", axis=1), \n",
    "    df_rebalanced[\"Fire Alarm\"], \n",
    "    test_size=0.2)"
   ]
  },
  {
   "cell_type": "code",
   "execution_count": 14,
   "id": "ef26d0e3",
   "metadata": {
    "id": "ef26d0e3",
    "outputId": "121a08ed-6150-4a43-9d64-0fbefd8647f9"
   },
   "outputs": [
    {
     "data": {
      "text/plain": [
       "((50104, 12), (12526, 12))"
      ]
     },
     "execution_count": 14,
     "metadata": {},
     "output_type": "execute_result"
    }
   ],
   "source": [
    "X_train.shape, X_test.shape"
   ]
  },
  {
   "cell_type": "code",
   "execution_count": 15,
   "id": "316d2d9c",
   "metadata": {
    "id": "316d2d9c",
    "outputId": "f5e5a490-5275-48f3-bc6d-c1cac352c63f"
   },
   "outputs": [
    {
     "data": {
      "text/plain": [
       "((71611, 12), (17903, 12))"
      ]
     },
     "execution_count": 15,
     "metadata": {},
     "output_type": "execute_result"
    }
   ],
   "source": [
    "X_train_rebalanced.shape, X_test_rebalanced.shape"
   ]
  },
  {
   "cell_type": "markdown",
   "id": "85677f02",
   "metadata": {
    "id": "85677f02"
   },
   "source": [
    "## Normalize the data"
   ]
  },
  {
   "cell_type": "code",
   "execution_count": 16,
   "id": "1f88e83b",
   "metadata": {
    "id": "1f88e83b"
   },
   "outputs": [],
   "source": [
    "# Normalization\n",
    "sc = StandardScaler()\n",
    "X_train_norm = sc.fit_transform(X_train)\n",
    "X_test_norm = sc.transform(X_test)\n",
    "X_train_rebalanced_norm = sc.fit_transform(X_train_rebalanced)\n",
    "X_test_rebalanced_norm = sc.transform(X_test_rebalanced)"
   ]
  },
  {
   "cell_type": "markdown",
   "id": "954fc3f1",
   "metadata": {
    "id": "954fc3f1"
   },
   "source": [
    "## Create feature selection"
   ]
  },
  {
   "cell_type": "code",
   "execution_count": 17,
   "id": "e142fdbb",
   "metadata": {
    "id": "e142fdbb"
   },
   "outputs": [],
   "source": [
    "select_feature = SelectKBest(f_classif, k=10).fit(X_train, y_train)\n",
    "X_train_norm_selected = select_feature.transform(X_train_norm)\n",
    "X_test_norm_selected = select_feature.transform(X_test_norm)"
   ]
  },
  {
   "cell_type": "code",
   "execution_count": 18,
   "id": "dd5ea724",
   "metadata": {},
   "outputs": [],
   "source": [
    "select_rebalanced_feature = SelectKBest(f_classif, k=10).fit(X_train_rebalanced, y_train_rebalanced)\n",
    "X_train_rebalanced_norm_selected = select_rebalanced_feature.transform(X_train_rebalanced_norm)\n",
    "X_test_rebalanced_norm_selected = select_rebalanced_feature.transform(X_test_rebalanced_norm)"
   ]
  },
  {
   "cell_type": "markdown",
   "id": "19bee2a2",
   "metadata": {
    "id": "19bee2a2"
   },
   "source": [
    "## Train and evaluate different models with and without feature selection"
   ]
  },
  {
   "cell_type": "code",
   "execution_count": 19,
   "id": "a462e6dc",
   "metadata": {},
   "outputs": [
    {
     "name": "stdout",
     "output_type": "stream",
     "text": [
      "Model: LogisticRegression\n",
      "Accuracy: 89.717%\n",
      "Run time: 0.673\n",
      "------------------------------------------\n",
      "Model: KNeighborsClassifier\n",
      "Accuracy: 99.848%\n",
      "Run time: 3.23\n",
      "------------------------------------------\n",
      "Model: DecisionTreeClassifier\n",
      "Accuracy: 100.000%\n",
      "Run time: 0.332\n",
      "------------------------------------------\n"
     ]
    }
   ],
   "source": [
    "score_norm = {\"model\":[],\"accuracy\":[],\"precision\":[],\"recall\":[],\"f1\":[],\"run-time\":[],}\n",
    "for name in Models:\n",
    "    model = Models[name]\n",
    "    train_evaluate_model(name, model,X_train_norm,y_train,X_test_norm,y_test, score_norm)"
   ]
  },
  {
   "cell_type": "code",
   "execution_count": 20,
   "id": "f1eae8b0",
   "metadata": {},
   "outputs": [
    {
     "name": "stdout",
     "output_type": "stream",
     "text": [
      "Model: LogisticRegression\n",
      "Accuracy: 89.717%\n",
      "Run time: 0.869\n",
      "------------------------------------------\n",
      "Model: KNeighborsClassifier\n",
      "Accuracy: 99.848%\n",
      "Run time: 1.55\n",
      "------------------------------------------\n",
      "Model: DecisionTreeClassifier\n",
      "Accuracy: 100.000%\n",
      "Run time: 0.165\n",
      "------------------------------------------\n"
     ]
    }
   ],
   "source": [
    "score_norm_selected = {\"model\":[],\"accuracy\":[],\"precision\":[],\"recall\":[],\"f1\":[],\"run-time\":[],}\n",
    "for name in Models:\n",
    "    model = Models[name]\n",
    "    train_evaluate_model(name, model,X_train_norm_selected,y_train,X_test_norm_selected,y_test, score_norm_selected)"
   ]
  },
  {
   "cell_type": "code",
   "execution_count": 21,
   "id": "069e0ef9",
   "metadata": {
    "id": "069e0ef9",
    "outputId": "1207f2b9-f517-46ff-fd53-0f1cbfb843ce"
   },
   "outputs": [
    {
     "name": "stdout",
     "output_type": "stream",
     "text": [
      "Model: LogisticRegression\n",
      "Accuracy: 90.840%\n",
      "Run time: 0.441\n",
      "------------------------------------------\n",
      "Model: KNeighborsClassifier\n",
      "Accuracy: 99.877%\n",
      "Run time: 2.35\n",
      "------------------------------------------\n",
      "Model: DecisionTreeClassifier\n",
      "Accuracy: 99.983%\n",
      "Run time: 0.244\n",
      "------------------------------------------\n"
     ]
    }
   ],
   "source": [
    "score_rebalanced_norm = {\"model\":[],\"accuracy\":[],\"precision\":[],\"recall\":[],\"f1\":[],\"run-time\":[],}\n",
    "for name in Models:\n",
    "    model = Models[name]\n",
    "    train_evaluate_model(name, model,X_train_rebalanced_norm,y_train_rebalanced,\n",
    "                         X_test_rebalanced_norm,y_test_rebalanced, score_rebalanced_norm)"
   ]
  },
  {
   "cell_type": "code",
   "execution_count": 22,
   "id": "847eaad6",
   "metadata": {
    "id": "847eaad6",
    "outputId": "df31752b-4fc3-4ef5-9981-37b036afd7ae"
   },
   "outputs": [
    {
     "name": "stdout",
     "output_type": "stream",
     "text": [
      "Model: LogisticRegression\n",
      "Accuracy: 90.840%\n",
      "Run time: 0.446\n",
      "------------------------------------------\n",
      "Model: KNeighborsClassifier\n",
      "Accuracy: 99.877%\n",
      "Run time: 2.18\n",
      "------------------------------------------\n",
      "Model: DecisionTreeClassifier\n",
      "Accuracy: 99.983%\n",
      "Run time: 0.241\n",
      "------------------------------------------\n"
     ]
    }
   ],
   "source": [
    "score_rebalanced_norm_selected = {\"model\":[],\"accuracy\":[],\"precision\":[],\"recall\":[],\"f1\":[],\"run-time\":[],}\n",
    "for name in Models:\n",
    "    model = Models[name]\n",
    "    train_evaluate_model(name, model,X_train_rebalanced_norm_selected,y_train_rebalanced,\n",
    "                         X_test_rebalanced_norm_selected,y_test_rebalanced, score_rebalanced_norm_selected)"
   ]
  },
  {
   "cell_type": "code",
   "execution_count": 23,
   "id": "35e49711",
   "metadata": {},
   "outputs": [
    {
     "name": "stdout",
     "output_type": "stream",
     "text": [
      "Result before data resampling\n"
     ]
    },
    {
     "data": {
      "text/html": [
       "<div style=\"display: flex;\"><style type=\"text/css\">\n",
       "#T_1827a th {\n",
       "  background-color: lightblue;\n",
       "}\n",
       "#T_1827a_row0_col0, #T_1827a_row0_col1, #T_1827a_row0_col2, #T_1827a_row0_col3, #T_1827a_row0_col4, #T_1827a_row0_col5, #T_1827a_row1_col0, #T_1827a_row1_col1, #T_1827a_row1_col2, #T_1827a_row1_col3, #T_1827a_row1_col4, #T_1827a_row1_col5, #T_1827a_row2_col0, #T_1827a_row2_col1, #T_1827a_row2_col2, #T_1827a_row2_col3, #T_1827a_row2_col4, #T_1827a_row2_col5 {\n",
       "  text-align: center;\n",
       "}\n",
       "</style>\n",
       "<table id=\"T_1827a\">\n",
       "  <caption><h2 align=\"center\">Without Feature Selection</h2></caption>\n",
       "  <thead>\n",
       "    <tr>\n",
       "      <th id=\"T_1827a_level0_col0\" class=\"col_heading level0 col0\" >model</th>\n",
       "      <th id=\"T_1827a_level0_col1\" class=\"col_heading level0 col1\" >accuracy</th>\n",
       "      <th id=\"T_1827a_level0_col2\" class=\"col_heading level0 col2\" >precision</th>\n",
       "      <th id=\"T_1827a_level0_col3\" class=\"col_heading level0 col3\" >recall</th>\n",
       "      <th id=\"T_1827a_level0_col4\" class=\"col_heading level0 col4\" >f1</th>\n",
       "      <th id=\"T_1827a_level0_col5\" class=\"col_heading level0 col5\" >run-time</th>\n",
       "    </tr>\n",
       "  </thead>\n",
       "  <tbody>\n",
       "    <tr>\n",
       "      <td id=\"T_1827a_row0_col0\" class=\"data row0 col0\" >LogisticRegression</td>\n",
       "      <td id=\"T_1827a_row0_col1\" class=\"data row0 col1\" >0.90</td>\n",
       "      <td id=\"T_1827a_row0_col2\" class=\"data row0 col2\" >0.90</td>\n",
       "      <td id=\"T_1827a_row0_col3\" class=\"data row0 col3\" >0.96</td>\n",
       "      <td id=\"T_1827a_row0_col4\" class=\"data row0 col4\" >0.93</td>\n",
       "      <td id=\"T_1827a_row0_col5\" class=\"data row0 col5\" >0.67</td>\n",
       "    </tr>\n",
       "    <tr>\n",
       "      <td id=\"T_1827a_row1_col0\" class=\"data row1 col0\" >KNeighborsClassifier</td>\n",
       "      <td id=\"T_1827a_row1_col1\" class=\"data row1 col1\" >1.00</td>\n",
       "      <td id=\"T_1827a_row1_col2\" class=\"data row1 col2\" >1.00</td>\n",
       "      <td id=\"T_1827a_row1_col3\" class=\"data row1 col3\" >1.00</td>\n",
       "      <td id=\"T_1827a_row1_col4\" class=\"data row1 col4\" >1.00</td>\n",
       "      <td id=\"T_1827a_row1_col5\" class=\"data row1 col5\" >3.23</td>\n",
       "    </tr>\n",
       "    <tr>\n",
       "      <td id=\"T_1827a_row2_col0\" class=\"data row2 col0\" >DecisionTreeClassifier</td>\n",
       "      <td id=\"T_1827a_row2_col1\" class=\"data row2 col1\" >1.00</td>\n",
       "      <td id=\"T_1827a_row2_col2\" class=\"data row2 col2\" >1.00</td>\n",
       "      <td id=\"T_1827a_row2_col3\" class=\"data row2 col3\" >1.00</td>\n",
       "      <td id=\"T_1827a_row2_col4\" class=\"data row2 col4\" >1.00</td>\n",
       "      <td id=\"T_1827a_row2_col5\" class=\"data row2 col5\" >0.33</td>\n",
       "    </tr>\n",
       "  </tbody>\n",
       "</table>\n",
       "<div style=\"width: 20px;\"></div><style type=\"text/css\">\n",
       "#T_70e2c th {\n",
       "  background-color: lightblue;\n",
       "}\n",
       "#T_70e2c_row0_col0, #T_70e2c_row0_col1, #T_70e2c_row0_col2, #T_70e2c_row0_col3, #T_70e2c_row0_col4, #T_70e2c_row0_col5, #T_70e2c_row1_col0, #T_70e2c_row1_col1, #T_70e2c_row1_col2, #T_70e2c_row1_col3, #T_70e2c_row1_col4, #T_70e2c_row1_col5, #T_70e2c_row2_col0, #T_70e2c_row2_col1, #T_70e2c_row2_col2, #T_70e2c_row2_col3, #T_70e2c_row2_col4, #T_70e2c_row2_col5 {\n",
       "  text-align: center;\n",
       "}\n",
       "</style>\n",
       "<table id=\"T_70e2c\">\n",
       "  <caption><h2 align=\"center\">With Feature Selection</h2></caption>\n",
       "  <thead>\n",
       "    <tr>\n",
       "      <th id=\"T_70e2c_level0_col0\" class=\"col_heading level0 col0\" >model</th>\n",
       "      <th id=\"T_70e2c_level0_col1\" class=\"col_heading level0 col1\" >accuracy</th>\n",
       "      <th id=\"T_70e2c_level0_col2\" class=\"col_heading level0 col2\" >precision</th>\n",
       "      <th id=\"T_70e2c_level0_col3\" class=\"col_heading level0 col3\" >recall</th>\n",
       "      <th id=\"T_70e2c_level0_col4\" class=\"col_heading level0 col4\" >f1</th>\n",
       "      <th id=\"T_70e2c_level0_col5\" class=\"col_heading level0 col5\" >run-time</th>\n",
       "    </tr>\n",
       "  </thead>\n",
       "  <tbody>\n",
       "    <tr>\n",
       "      <td id=\"T_70e2c_row0_col0\" class=\"data row0 col0\" >LogisticRegression</td>\n",
       "      <td id=\"T_70e2c_row0_col1\" class=\"data row0 col1\" >0.90</td>\n",
       "      <td id=\"T_70e2c_row0_col2\" class=\"data row0 col2\" >0.90</td>\n",
       "      <td id=\"T_70e2c_row0_col3\" class=\"data row0 col3\" >0.96</td>\n",
       "      <td id=\"T_70e2c_row0_col4\" class=\"data row0 col4\" >0.93</td>\n",
       "      <td id=\"T_70e2c_row0_col5\" class=\"data row0 col5\" >0.87</td>\n",
       "    </tr>\n",
       "    <tr>\n",
       "      <td id=\"T_70e2c_row1_col0\" class=\"data row1 col0\" >KNeighborsClassifier</td>\n",
       "      <td id=\"T_70e2c_row1_col1\" class=\"data row1 col1\" >1.00</td>\n",
       "      <td id=\"T_70e2c_row1_col2\" class=\"data row1 col2\" >1.00</td>\n",
       "      <td id=\"T_70e2c_row1_col3\" class=\"data row1 col3\" >1.00</td>\n",
       "      <td id=\"T_70e2c_row1_col4\" class=\"data row1 col4\" >1.00</td>\n",
       "      <td id=\"T_70e2c_row1_col5\" class=\"data row1 col5\" >1.55</td>\n",
       "    </tr>\n",
       "    <tr>\n",
       "      <td id=\"T_70e2c_row2_col0\" class=\"data row2 col0\" >DecisionTreeClassifier</td>\n",
       "      <td id=\"T_70e2c_row2_col1\" class=\"data row2 col1\" >1.00</td>\n",
       "      <td id=\"T_70e2c_row2_col2\" class=\"data row2 col2\" >1.00</td>\n",
       "      <td id=\"T_70e2c_row2_col3\" class=\"data row2 col3\" >1.00</td>\n",
       "      <td id=\"T_70e2c_row2_col4\" class=\"data row2 col4\" >1.00</td>\n",
       "      <td id=\"T_70e2c_row2_col5\" class=\"data row2 col5\" >0.16</td>\n",
       "    </tr>\n",
       "  </tbody>\n",
       "</table>\n",
       "</div>"
      ],
      "text/plain": [
       "<IPython.core.display.HTML object>"
      ]
     },
     "metadata": {},
     "output_type": "display_data"
    }
   ],
   "source": [
    "t1 = display_score(score_norm)\n",
    "t2 = display_score(score_norm_selected)\n",
    "print(\"Result before data resampling\")\n",
    "display_tables_side_by_side(t1, \"Without Feature Selection\", t2, \"With Feature Selection\")"
   ]
  },
  {
   "cell_type": "code",
   "execution_count": 24,
   "id": "4475c909",
   "metadata": {
    "id": "4475c909",
    "outputId": "5c05ddba-01d3-4d91-b367-ad9be1a44b2a"
   },
   "outputs": [
    {
     "name": "stdout",
     "output_type": "stream",
     "text": [
      "Result after data resampling\n"
     ]
    },
    {
     "data": {
      "text/html": [
       "<div style=\"display: flex;\"><style type=\"text/css\">\n",
       "#T_eb784 th {\n",
       "  background-color: lightblue;\n",
       "}\n",
       "#T_eb784_row0_col0, #T_eb784_row0_col1, #T_eb784_row0_col2, #T_eb784_row0_col3, #T_eb784_row0_col4, #T_eb784_row0_col5, #T_eb784_row1_col0, #T_eb784_row1_col1, #T_eb784_row1_col2, #T_eb784_row1_col3, #T_eb784_row1_col4, #T_eb784_row1_col5, #T_eb784_row2_col0, #T_eb784_row2_col1, #T_eb784_row2_col2, #T_eb784_row2_col3, #T_eb784_row2_col4, #T_eb784_row2_col5 {\n",
       "  text-align: center;\n",
       "}\n",
       "</style>\n",
       "<table id=\"T_eb784\">\n",
       "  <caption><h2 align=\"center\">Without Feature Selection</h2></caption>\n",
       "  <thead>\n",
       "    <tr>\n",
       "      <th id=\"T_eb784_level0_col0\" class=\"col_heading level0 col0\" >model</th>\n",
       "      <th id=\"T_eb784_level0_col1\" class=\"col_heading level0 col1\" >accuracy</th>\n",
       "      <th id=\"T_eb784_level0_col2\" class=\"col_heading level0 col2\" >precision</th>\n",
       "      <th id=\"T_eb784_level0_col3\" class=\"col_heading level0 col3\" >recall</th>\n",
       "      <th id=\"T_eb784_level0_col4\" class=\"col_heading level0 col4\" >f1</th>\n",
       "      <th id=\"T_eb784_level0_col5\" class=\"col_heading level0 col5\" >run-time</th>\n",
       "    </tr>\n",
       "  </thead>\n",
       "  <tbody>\n",
       "    <tr>\n",
       "      <td id=\"T_eb784_row0_col0\" class=\"data row0 col0\" >LogisticRegression</td>\n",
       "      <td id=\"T_eb784_row0_col1\" class=\"data row0 col1\" >0.91</td>\n",
       "      <td id=\"T_eb784_row0_col2\" class=\"data row0 col2\" >0.91</td>\n",
       "      <td id=\"T_eb784_row0_col3\" class=\"data row0 col3\" >0.90</td>\n",
       "      <td id=\"T_eb784_row0_col4\" class=\"data row0 col4\" >0.91</td>\n",
       "      <td id=\"T_eb784_row0_col5\" class=\"data row0 col5\" >0.44</td>\n",
       "    </tr>\n",
       "    <tr>\n",
       "      <td id=\"T_eb784_row1_col0\" class=\"data row1 col0\" >KNeighborsClassifier</td>\n",
       "      <td id=\"T_eb784_row1_col1\" class=\"data row1 col1\" >1.00</td>\n",
       "      <td id=\"T_eb784_row1_col2\" class=\"data row1 col2\" >1.00</td>\n",
       "      <td id=\"T_eb784_row1_col3\" class=\"data row1 col3\" >1.00</td>\n",
       "      <td id=\"T_eb784_row1_col4\" class=\"data row1 col4\" >1.00</td>\n",
       "      <td id=\"T_eb784_row1_col5\" class=\"data row1 col5\" >2.35</td>\n",
       "    </tr>\n",
       "    <tr>\n",
       "      <td id=\"T_eb784_row2_col0\" class=\"data row2 col0\" >DecisionTreeClassifier</td>\n",
       "      <td id=\"T_eb784_row2_col1\" class=\"data row2 col1\" >1.00</td>\n",
       "      <td id=\"T_eb784_row2_col2\" class=\"data row2 col2\" >1.00</td>\n",
       "      <td id=\"T_eb784_row2_col3\" class=\"data row2 col3\" >1.00</td>\n",
       "      <td id=\"T_eb784_row2_col4\" class=\"data row2 col4\" >1.00</td>\n",
       "      <td id=\"T_eb784_row2_col5\" class=\"data row2 col5\" >0.24</td>\n",
       "    </tr>\n",
       "  </tbody>\n",
       "</table>\n",
       "<div style=\"width: 20px;\"></div><style type=\"text/css\">\n",
       "#T_11246 th {\n",
       "  background-color: lightblue;\n",
       "}\n",
       "#T_11246_row0_col0, #T_11246_row0_col1, #T_11246_row0_col2, #T_11246_row0_col3, #T_11246_row0_col4, #T_11246_row0_col5, #T_11246_row1_col0, #T_11246_row1_col1, #T_11246_row1_col2, #T_11246_row1_col3, #T_11246_row1_col4, #T_11246_row1_col5, #T_11246_row2_col0, #T_11246_row2_col1, #T_11246_row2_col2, #T_11246_row2_col3, #T_11246_row2_col4, #T_11246_row2_col5 {\n",
       "  text-align: center;\n",
       "}\n",
       "</style>\n",
       "<table id=\"T_11246\">\n",
       "  <caption><h2 align=\"center\">With Feature Selection</h2></caption>\n",
       "  <thead>\n",
       "    <tr>\n",
       "      <th id=\"T_11246_level0_col0\" class=\"col_heading level0 col0\" >model</th>\n",
       "      <th id=\"T_11246_level0_col1\" class=\"col_heading level0 col1\" >accuracy</th>\n",
       "      <th id=\"T_11246_level0_col2\" class=\"col_heading level0 col2\" >precision</th>\n",
       "      <th id=\"T_11246_level0_col3\" class=\"col_heading level0 col3\" >recall</th>\n",
       "      <th id=\"T_11246_level0_col4\" class=\"col_heading level0 col4\" >f1</th>\n",
       "      <th id=\"T_11246_level0_col5\" class=\"col_heading level0 col5\" >run-time</th>\n",
       "    </tr>\n",
       "  </thead>\n",
       "  <tbody>\n",
       "    <tr>\n",
       "      <td id=\"T_11246_row0_col0\" class=\"data row0 col0\" >LogisticRegression</td>\n",
       "      <td id=\"T_11246_row0_col1\" class=\"data row0 col1\" >0.91</td>\n",
       "      <td id=\"T_11246_row0_col2\" class=\"data row0 col2\" >0.91</td>\n",
       "      <td id=\"T_11246_row0_col3\" class=\"data row0 col3\" >0.90</td>\n",
       "      <td id=\"T_11246_row0_col4\" class=\"data row0 col4\" >0.91</td>\n",
       "      <td id=\"T_11246_row0_col5\" class=\"data row0 col5\" >0.45</td>\n",
       "    </tr>\n",
       "    <tr>\n",
       "      <td id=\"T_11246_row1_col0\" class=\"data row1 col0\" >KNeighborsClassifier</td>\n",
       "      <td id=\"T_11246_row1_col1\" class=\"data row1 col1\" >1.00</td>\n",
       "      <td id=\"T_11246_row1_col2\" class=\"data row1 col2\" >1.00</td>\n",
       "      <td id=\"T_11246_row1_col3\" class=\"data row1 col3\" >1.00</td>\n",
       "      <td id=\"T_11246_row1_col4\" class=\"data row1 col4\" >1.00</td>\n",
       "      <td id=\"T_11246_row1_col5\" class=\"data row1 col5\" >2.18</td>\n",
       "    </tr>\n",
       "    <tr>\n",
       "      <td id=\"T_11246_row2_col0\" class=\"data row2 col0\" >DecisionTreeClassifier</td>\n",
       "      <td id=\"T_11246_row2_col1\" class=\"data row2 col1\" >1.00</td>\n",
       "      <td id=\"T_11246_row2_col2\" class=\"data row2 col2\" >1.00</td>\n",
       "      <td id=\"T_11246_row2_col3\" class=\"data row2 col3\" >1.00</td>\n",
       "      <td id=\"T_11246_row2_col4\" class=\"data row2 col4\" >1.00</td>\n",
       "      <td id=\"T_11246_row2_col5\" class=\"data row2 col5\" >0.24</td>\n",
       "    </tr>\n",
       "  </tbody>\n",
       "</table>\n",
       "</div>"
      ],
      "text/plain": [
       "<IPython.core.display.HTML object>"
      ]
     },
     "metadata": {},
     "output_type": "display_data"
    }
   ],
   "source": [
    "t1 = display_score(score_rebalanced_norm)\n",
    "t2 = display_score(score_rebalanced_norm_selected)\n",
    "print(\"Result after data resampling\")\n",
    "display_tables_side_by_side(t1, \"Without Feature Selection\", t2, \"With Feature Selection\")"
   ]
  },
  {
   "cell_type": "markdown",
   "id": "ca98765c",
   "metadata": {},
   "source": [
    "## Conclusion\n",
    "In this study, we investigated the impact of data preprocessing techniques, including normalization, feature selection, and data resampling, on enhancing the performance of machine learning models in the context of imbalanced datasets. Our results demonstrate that these preprocessing steps improve model accuracy, precision, recall, and F1 score across different classification algorithms. Data normalization helped standardize the features, ensuring each feature contributes proportionally to the model's decision-making process and improved accuracy and computational efficiency, particularly in models like Logistic Regression and K-Nearest Neighbors.\n",
    "\n",
    "Moreover, feature selection techniques proved effective in reducing the dimensionality of the dataset while retaining its discriminatory power, thus improving the models' generalization ability and reducing overfitting. By selecting a subset of informative features, the models could focus on the most relevant aspects of the data, resulting in comparable or even superior performance compared to using the entire feature set, which highlights the importance of feature engineering in optimizing model performance, especially in scenarios with high-dimensional datasets.\n",
    "\n",
    "Additionally, our exploration of data resampling techniques effectively addressed class imbalance issues, particularly when one class is significantly underrepresented. By rebalancing the distribution of classes through oversampling or undersampling, we provided the models with a more representative training set, leading to improved performance metrics across all evaluated algorithms. Overall, our findings underscore the significance of thoughtful data preprocessing in mitigating the challenges of imbalanced datasets and improving the robustness and efficacy of machine learning models in real-world applications."
   ]
  },
  {
   "cell_type": "code",
   "execution_count": null,
   "id": "1c25998f",
   "metadata": {},
   "outputs": [],
   "source": []
  }
 ],
 "metadata": {
  "colab": {
   "provenance": []
  },
  "kernelspec": {
   "display_name": "Python 3 (ipykernel)",
   "language": "python",
   "name": "python3"
  },
  "language_info": {
   "codemirror_mode": {
    "name": "ipython",
    "version": 3
   },
   "file_extension": ".py",
   "mimetype": "text/x-python",
   "name": "python",
   "nbconvert_exporter": "python",
   "pygments_lexer": "ipython3",
   "version": "3.10.9"
  }
 },
 "nbformat": 4,
 "nbformat_minor": 5
}
